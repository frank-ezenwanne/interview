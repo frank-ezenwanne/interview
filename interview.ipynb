{
 "cells": [
  {
   "cell_type": "code",
   "execution_count": 9,
   "metadata": {},
   "outputs": [
    {
     "data": {
      "text/plain": [
       "'number must be greater than 0'"
      ]
     },
     "execution_count": 9,
     "metadata": {},
     "output_type": "execute_result"
    }
   ],
   "source": [
    "def reduce_evrtn(x):\n",
    "    try:\n",
    "        assert x>=0\n",
    "    except AssertionError:\n",
    "        return 'number must be greater than 0'\n",
    "    count=0\n",
    "    while x > 0:\n",
    "        if x %2 == 0:\n",
    "            x=x/2\n",
    "        else:\n",
    "            x-=1\n",
    "        count += 1\n",
    "    return f'{x} in {count} stepzz' \n",
    "\n",
    "reduce_evrtn(-1)"
   ]
  },
  {
   "cell_type": "code",
   "execution_count": null,
   "metadata": {},
   "outputs": [],
   "source": []
  },
  {
   "cell_type": "code",
   "execution_count": 113,
   "metadata": {},
   "outputs": [],
   "source": [
    "bank =[[1,2,3],[2,3,4],[2,3,4]]\n",
    "def get_richest_dude(bank):\n",
    "    acc_sum=[]\n",
    "    \n",
    "    for acc in bank:\n",
    "        acc_sum.append(sum(acc))\n",
    "    max_acc = (max(acc_sum))\n",
    "    max_acc_index =acc_sum.index(max_acc)\n",
    "   \n",
    "    other_big_boys=[]\n",
    "\n",
    "    for index,acc_total in enumerate(acc_sum):\n",
    "        if max_acc == acc_total and max_acc_index != index:\n",
    "            other_big_boys.append(index)\n",
    "    if len(other_big_boys) > 0:\n",
    "        return f'Customers {max_acc_index} {other_big_boys} have {max_acc}'\n",
    "    else:\n",
    "        return f' Customer {max_acc_index} has {max_acc}' \n",
    "       \n",
    "\n"
   ]
  },
  {
   "cell_type": "code",
   "execution_count": 114,
   "metadata": {},
   "outputs": [
    {
     "data": {
      "text/plain": [
       "'Customers 1 [2] have 9'"
      ]
     },
     "execution_count": 114,
     "metadata": {},
     "output_type": "execute_result"
    }
   ],
   "source": [
    "get_richest_dude(bank)"
   ]
  },
  {
   "cell_type": "code",
   "execution_count": 96,
   "metadata": {},
   "outputs": [
    {
     "name": "stdout",
     "output_type": "stream",
     "text": [
      "['0', 'FizzBuzz', 'FizzBuzz', 'Buzz', 'FizzBuzz', 'Fizz', 'Buzz', 'FizzBuzz', 'FizzBuzz']\n"
     ]
    }
   ],
   "source": [
    "def get_divis(num):\n",
    "    arr = []\n",
    "    arr_check=[]\n",
    "    for i in range(1,num+1):\n",
    "        arr.append(i)\n",
    "    for elem in arr:\n",
    "        if elem % 3 ==0 and elem % 5 ==0:\n",
    "            arr_check.append('FizzBuzz')\n",
    "        elif elem % 3 == 0:\n",
    "            arr_check.append('Fizz')\n",
    "        elif elem % 5 ==0:\n",
    "            arr_check.append('Buzz')\n",
    "            \n",
    "        else:\n",
    "            arr_check.append(str(elem))\n",
    "    print(arr_check)\n",
    "            \n",
    "get_divis(9)\n",
    "            \n",
    "            \n",
    "    "
   ]
  },
  {
   "cell_type": "code",
   "execution_count": 98,
   "metadata": {},
   "outputs": [
    {
     "name": "stdout",
     "output_type": "stream",
     "text": [
      "[1, 3, 6]\n"
     ]
    }
   ],
   "source": [
    "def running_sum(num_list):\n",
    "    arr=[]\n",
    "    prev = 0\n",
    "    for elem in num_list:\n",
    "        prev=prev+elem\n",
    "        arr.append(prev)\n",
    "    print(arr)\n",
    "    \n",
    "running_sum([1,2,3])"
   ]
  },
  {
   "cell_type": "code",
   "execution_count": null,
   "metadata": {},
   "outputs": [],
   "source": []
  }
 ],
 "metadata": {
  "kernelspec": {
   "display_name": "Python 3",
   "language": "python",
   "name": "python3"
  },
  "language_info": {
   "codemirror_mode": {
    "name": "ipython",
    "version": 3
   },
   "file_extension": ".py",
   "mimetype": "text/x-python",
   "name": "python",
   "nbconvert_exporter": "python",
   "pygments_lexer": "ipython3",
   "version": "3.7.2"
  }
 },
 "nbformat": 4,
 "nbformat_minor": 4
}
